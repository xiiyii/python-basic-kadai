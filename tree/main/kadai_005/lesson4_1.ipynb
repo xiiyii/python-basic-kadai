{
  "nbformat": 4,
  "nbformat_minor": 0,
  "metadata": {
    "colab": {
      "provenance": []
    },
    "kernelspec": {
      "name": "python3",
      "display_name": "Python 3"
    },
    "language_info": {
      "name": "python"
    }
  },
  "cells": [
    {
      "cell_type": "code",
      "source": [
        "def trapezoid_area(top_base, bottom_base, height):\n",
        "    return (top_base + bottom_base) * height / 2\n",
        "\n",
        "# 例: 上底=10, 下底=20, 高さ=5 の場合\n",
        "top_base = 10\n",
        "bottom_base = 20\n",
        "height = 5\n",
        "\n",
        "area = trapezoid_area(top_base, bottom_base, height)\n",
        "print(f\"上辺:{top_base}cm\")\n",
        "print(f\"下辺:{bottom_base}cm\")\n",
        "print(f\"高さ:{height}cm\")\n",
        "print(f\"\\n{area}\")"
      ],
      "metadata": {
        "colab": {
          "base_uri": "https://localhost:8080/"
        },
        "id": "KM1zuZQKJLv4",
        "outputId": "ffc3f3ca-0baf-4d71-fea3-b97ba985ad48"
      },
      "execution_count": null,
      "outputs": [
        {
          "output_type": "stream",
          "name": "stdout",
          "text": [
            "上辺:10cm\n",
            "下辺:20cm\n",
            "高さ:5cm\n",
            "\n",
            "75.0\n"
          ]
        }
      ]
    },
    {
      "cell_type": "code",
      "source": [],
      "metadata": {
        "id": "rqDirgjISa_S"
      },
      "execution_count": null,
      "outputs": []
    }
  ]
}