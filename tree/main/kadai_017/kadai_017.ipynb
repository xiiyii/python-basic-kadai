{
  "nbformat": 4,
  "nbformat_minor": 0,
  "metadata": {
    "colab": {
      "provenance": []
    },
    "kernelspec": {
      "name": "python3",
      "display_name": "Python 3"
    },
    "language_info": {
      "name": "python"
    }
  },
  "cells": [
    {
      "cell_type": "code",
      "source": [
        "class Human:\n",
        "    def __init__(self):\n",
        "        self.name = \"\"\n",
        "\n",
        "    # メソッドを定義する\n",
        "    def set_show_name(self,name,age):\n",
        "\n",
        "        self.name = name\n",
        "        self.age = age\n",
        "\n",
        "        print(self.name)\n",
        "        print(self.age)\n",
        "\n",
        "        if int(self.age) > 20:\n",
        "          print(\"大人です\")\n",
        "        else:\n",
        "          print(\"大人ではありません\")\n",
        "\n",
        "# インスタンス化する\n",
        "human = Human()\n",
        "\n",
        "# メソッドにアクセスして実行する\n",
        "name = input(\"名前を入力\")\n",
        "age  = input(\"年齢を入力\")\n",
        "\n",
        "human.set_show_name(name,age)\n"
      ],
      "metadata": {
        "colab": {
          "base_uri": "https://localhost:8080/"
        },
        "outputId": "1e2f3d6d-d748-42b4-adaf-0f4132168b58",
        "id": "tsg_eY_CClRL"
      },
      "execution_count": 13,
      "outputs": [
        {
          "output_type": "stream",
          "name": "stdout",
          "text": [
            "名前を入力ww\n",
            "12\n",
            "ww\n",
            "12\n",
            "大人ではありません\n"
          ]
        }
      ]
    }
  ]
}