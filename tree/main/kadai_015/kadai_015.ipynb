{
  "nbformat": 4,
  "nbformat_minor": 0,
  "metadata": {
    "colab": {
      "provenance": []
    },
    "kernelspec": {
      "name": "python3",
      "display_name": "Python 3"
    },
    "language_info": {
      "name": "python"
    }
  },
  "cells": [
    {
      "cell_type": "code",
      "source": [
        "class Human:\n",
        "    def __init__(self):\n",
        "        self.name = \"\"\n",
        "\n",
        "    # メソッドを定義する\n",
        "    def set_show_name(self,name,age):\n",
        "\n",
        "        self.name = name\n",
        "        self.age = age\n",
        "\n",
        "        print(self.name)\n",
        "        print(self.age)\n",
        "\n",
        "# インスタンス化する\n",
        "human = Human()\n",
        "\n",
        "# メソッドにアクセスして実行する\n",
        "human.set_show_name(\"Bob\",20)"
      ],
      "metadata": {
        "colab": {
          "base_uri": "https://localhost:8080/"
        },
        "id": "11mrAtuUpaTm",
        "outputId": "4c115cb5-a4bd-43f9-9717-d0b9ba5031b0"
      },
      "execution_count": 10,
      "outputs": [
        {
          "output_type": "stream",
          "name": "stdout",
          "text": [
            "Bob\n",
            "20\n"
          ]
        }
      ]
    }
  ]
}