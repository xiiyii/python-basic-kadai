{
  "nbformat": 4,
  "nbformat_minor": 0,
  "metadata": {
    "colab": {
      "provenance": []
    },
    "kernelspec": {
      "name": "python3",
      "display_name": "Python 3"
    },
    "language_info": {
      "name": "python"
    }
  },
  "cells": [
    {
      "cell_type": "code",
      "source": [
        "def calculate_tax_amount(inclusive_price, tax_rate):\n",
        "    tax_amount = inclusive_price * (tax_rate / (1 + tax_rate))\n",
        "    return tax_amount\n",
        "\n",
        "# 使用例\n",
        "inclusive_price = int(input())  # 税込み価格\n",
        "tax_rate = float(int(input()) / 100)  # 消費税率\n",
        "\n",
        "tax_amount = calculate_tax_amount(inclusive_price, tax_rate)\n",
        "print(f\"消費税の金額は {tax_amount} 円です。\")"
      ],
      "metadata": {
        "colab": {
          "base_uri": "https://localhost:8080/"
        },
        "id": "ux0NMOpVKzH1",
        "outputId": "f3d52789-eeb7-48a2-b71f-f7a9f20efb1e"
      },
      "execution_count": 6,
      "outputs": [
        {
          "output_type": "stream",
          "name": "stdout",
          "text": [
            "1100\n",
            "10\n",
            "消費税の金額は 100.0 円です。\n"
          ]
        }
      ]
    }
  ]
}