{
  "nbformat": 4,
  "nbformat_minor": 0,
  "metadata": {
    "colab": {
      "provenance": []
    },
    "kernelspec": {
      "name": "python3",
      "display_name": "Python 3"
    },
    "language_info": {
      "name": "python"
    }
  },
  "cells": [
    {
      "cell_type": "code",
      "source": [
        "# 数値を入力\n",
        "var = int(input(\"数値を入力してください: \"))\n",
        "\n",
        "# 3で割った余りを確認\n",
        "if var % 3 == 0 and var % 5 == 0:\n",
        "    print(f\"FizzBuzz\")\n",
        "\n",
        "if var % 3 == 0 and var % 5 != 0:\n",
        "    print(f\"Fizz\")\n",
        "\n",
        "if var % 3 != 0 and var % 5 == 0:\n",
        "    print(f\"Buzz\")\n",
        "\n",
        "if var % 3 != 0 and var % 5 != 0:\n",
        "    print(f\"{var}\")\n",
        ""
      ],
      "metadata": {
        "colab": {
          "base_uri": "https://localhost:8080/"
        },
        "id": "ux0NMOpVKzH1",
        "outputId": "04d8ceeb-4422-4c1c-964a-42ba5ce3024d"
      },
      "execution_count": 6,
      "outputs": [
        {
          "output_type": "stream",
          "name": "stdout",
          "text": [
            "数値を入力してください: 21\n",
            "Fizz\n"
          ]
        }
      ]
    }
  ]
}