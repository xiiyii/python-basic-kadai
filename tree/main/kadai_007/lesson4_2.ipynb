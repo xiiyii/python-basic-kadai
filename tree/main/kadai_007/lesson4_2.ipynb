{
  "nbformat": 4,
  "nbformat_minor": 0,
  "metadata": {
    "colab": {
      "provenance": []
    },
    "kernelspec": {
      "name": "python3",
      "display_name": "Python 3"
    },
    "language_info": {
      "name": "python"
    }
  },
  "cells": [
    {
      "cell_type": "code",
      "source": [
        "def calculate_tax_included(price, tax_rate):\n",
        "    return price * (1 + tax_rate)\n",
        "\n",
        "price_excluding_tax = input()  # 税抜価格\n",
        "input_tax_rate = input()\n",
        "price_including_tax = int(calculate_tax_included(int(price_excluding_tax),float(input_tax_rate)))\n",
        "\n",
        "print(f\"税込価格: {price_including_tax}円\")"
      ],
      "metadata": {
        "colab": {
          "base_uri": "https://localhost:8080/"
        },
        "id": "ux0NMOpVKzH1",
        "outputId": "26a76628-03f8-4564-cd51-3648a2f4ab15"
      },
      "execution_count": null,
      "outputs": [
        {
          "output_type": "stream",
          "name": "stdout",
          "text": [
            "1000\n",
            "0.1\n",
            "税込価格: 1100円\n"
          ]
        }
      ]
    }
  ]
}